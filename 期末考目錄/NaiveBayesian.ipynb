{
  "nbformat": 4,
  "nbformat_minor": 0,
  "metadata": {
    "colab": {
      "provenance": [],
      "authorship_tag": "ABX9TyNZ5nFnxL7ijmbTUJxP0WG6",
      "include_colab_link": true
    },
    "kernelspec": {
      "name": "python3",
      "display_name": "Python 3"
    },
    "language_info": {
      "name": "python"
    }
  },
  "cells": [
    {
      "cell_type": "markdown",
      "metadata": {
        "id": "view-in-github",
        "colab_type": "text"
      },
      "source": [
        "<a href=\"https://colab.research.google.com/github/sparkcool1232/MachineLearning/blob/main/%E6%9C%9F%E6%9C%AB%E8%80%83%E7%9B%AE%E9%8C%84/NaiveBayesian.ipynb\" target=\"_parent\"><img src=\"https://colab.research.google.com/assets/colab-badge.svg\" alt=\"Open In Colab\"/></a>"
      ]
    },
    {
      "cell_type": "code",
      "execution_count": 1,
      "metadata": {
        "colab": {
          "base_uri": "https://localhost:8080/"
        },
        "id": "ek3SZei2qrGm",
        "outputId": "16d897c6-81c9-4895-b6a9-45d35c12cd60"
      },
      "outputs": [
        {
          "output_type": "stream",
          "name": "stdout",
          "text": [
            "訓練資料正確率: 0.9428571428571428\n",
            "測試資料正確率: 1.0\n",
            "標準答案: [2 1 0 2 0 2 0 1 1 1 2 1 1 1 1 0 1 1 0 0 2 1 0 0 2 0 0 1 1 0 2 1 0 2 2 1 0\n",
            " 1 1 1 2 0 2 0 0]\n",
            "預測答案: [2 1 0 2 0 2 0 1 1 1 2 1 1 1 1 0 1 1 0 0 2 1 0 0 2 0 0 1 1 0 2 1 0 2 2 1 0\n",
            " 1 1 1 2 0 2 0 0]\n"
          ]
        }
      ],
      "source": [
        "\tfrom sklearn import datasets\n",
        "\tfrom sklearn.naive_bayes import GaussianNB\n",
        "\tfrom sklearn.model_selection import train_test_split\n",
        "\n",
        "\tiris=datasets.load_iris()\n",
        "\tx=iris.data\n",
        "\ty=iris.target\n",
        "\ttrain_data, test_data, train_label, test_label = train_test_split(x, y,test_size=0.3,random_state=0)\n",
        "\tclf=GaussianNB()\n",
        "\tclf.fit(train_data,train_label)\n",
        "\tprint(\"訓練資料正確率:\",clf.score(train_data,train_label)) # 訓練資料正確率\n",
        "\tprint(\"測試資料正確率:\",clf.score(test_data, test_label)) # 測試資料正確率\n",
        "\tpredict=clf.predict(test_data)\n",
        "\tprint(\"標準答案:\",test_label) # 標準答案\n",
        "\tprint(\"預測答案:\",predict) # 預測答案"
      ]
    }
  ]
}