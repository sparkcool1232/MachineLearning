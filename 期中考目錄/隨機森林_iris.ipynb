{
  "nbformat": 4,
  "nbformat_minor": 0,
  "metadata": {
    "colab": {
      "provenance": [],
      "authorship_tag": "ABX9TyO4xD4wyE/a9WNIxO0rePwi",
      "include_colab_link": true
    },
    "kernelspec": {
      "name": "python3",
      "display_name": "Python 3"
    },
    "language_info": {
      "name": "python"
    }
  },
  "cells": [
    {
      "cell_type": "markdown",
      "metadata": {
        "id": "view-in-github",
        "colab_type": "text"
      },
      "source": [
        "<a href=\"https://colab.research.google.com/github/sparkcool1232/MachineLearning/blob/main/%E9%9A%A8%E6%A9%9F%E6%A3%AE%E6%9E%97_iris.ipynb\" target=\"_parent\"><img src=\"https://colab.research.google.com/assets/colab-badge.svg\" alt=\"Open In Colab\"/></a>"
      ]
    },
    {
      "cell_type": "code",
      "execution_count": 2,
      "metadata": {
        "id": "gntZVwS8AwCo"
      },
      "outputs": [],
      "source": [
        "from sklearn.datasets import load_iris"
      ]
    },
    {
      "cell_type": "code",
      "source": [
        "from sklearn.ensemble import RandomForestClassifier"
      ],
      "metadata": {
        "id": "MJUlMOnEA074"
      },
      "execution_count": 3,
      "outputs": []
    },
    {
      "cell_type": "code",
      "source": [
        "from sklearn.model_selection import train_test_split"
      ],
      "metadata": {
        "id": "NVz9AC2tA4jQ"
      },
      "execution_count": 4,
      "outputs": []
    },
    {
      "cell_type": "code",
      "source": [
        "iris = load_iris()"
      ],
      "metadata": {
        "id": "yzK4pRvQBAdA"
      },
      "execution_count": 5,
      "outputs": []
    },
    {
      "cell_type": "code",
      "source": [
        "iris_data = iris.data"
      ],
      "metadata": {
        "id": "Du_kU476BCyH"
      },
      "execution_count": 6,
      "outputs": []
    },
    {
      "cell_type": "code",
      "source": [
        "iris_label = iris.target"
      ],
      "metadata": {
        "id": "FLHgDIEmBHoQ"
      },
      "execution_count": 7,
      "outputs": []
    },
    {
      "cell_type": "code",
      "source": [
        "train_data, test_data, train_label, test_label = train_test_split(iris_data, iris_label, test_size=0.3)"
      ],
      "metadata": {
        "id": "69vYPURFBJjI"
      },
      "execution_count": 8,
      "outputs": []
    },
    {
      "cell_type": "code",
      "source": [
        "clf = RandomForestClassifier(n_estimators=30, max_depth=4)"
      ],
      "metadata": {
        "id": "ZZFMSf9iBO7P"
      },
      "execution_count": 9,
      "outputs": []
    },
    {
      "cell_type": "code",
      "source": [
        "iris_clf=clf.fit(train_data, train_label)"
      ],
      "metadata": {
        "id": "4Srk9Vj7BWVv"
      },
      "execution_count": 10,
      "outputs": []
    },
    {
      "cell_type": "code",
      "source": [
        "print(iris_clf.score(test_data, test_label))"
      ],
      "metadata": {
        "colab": {
          "base_uri": "https://localhost:8080/"
        },
        "id": "fZKzgFepBfC-",
        "outputId": "0f11d143-921d-4dae-ceda-e7bb6eff8536"
      },
      "execution_count": 11,
      "outputs": [
        {
          "output_type": "stream",
          "name": "stdout",
          "text": [
            "0.9333333333333333\n"
          ]
        }
      ]
    },
    {
      "cell_type": "code",
      "source": [
        "print(iris_clf.score(train_data, train_label))"
      ],
      "metadata": {
        "colab": {
          "base_uri": "https://localhost:8080/"
        },
        "id": "CDCZKcM-Bh7X",
        "outputId": "b7cc4c83-5633-4f3f-fe9a-837120b51f17"
      },
      "execution_count": 12,
      "outputs": [
        {
          "output_type": "stream",
          "name": "stdout",
          "text": [
            "1.0\n"
          ]
        }
      ]
    },
    {
      "cell_type": "code",
      "source": [
        "predict=clf.predict(test_data) # 預測\n",
        "print(\"標準答案:\",test_label) # 標準答案\n",
        "print(\"預測答案:\",predict) # 預測答案"
      ],
      "metadata": {
        "id": "prPyS-4OBrm_",
        "colab": {
          "base_uri": "https://localhost:8080/"
        },
        "outputId": "4eb253bd-fc23-4d99-892e-6e96fce98939"
      },
      "execution_count": 13,
      "outputs": [
        {
          "output_type": "stream",
          "name": "stdout",
          "text": [
            "標準答案: [2 1 1 1 2 2 1 0 2 0 1 2 1 0 1 1 0 2 1 0 2 2 2 1 0 0 0 0 2 1 1 0 2 2 1 2 1\n",
            " 2 1 1 0 2 2 0 0]\n",
            "預測答案: [2 1 1 2 2 2 1 0 2 0 1 2 1 0 1 1 0 2 1 0 2 2 2 1 0 0 0 0 2 1 1 0 2 2 2 2 1\n",
            " 2 1 2 0 2 2 0 0]\n"
          ]
        }
      ]
    }
  ]
}
